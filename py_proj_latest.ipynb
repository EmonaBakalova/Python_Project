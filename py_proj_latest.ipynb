{
 "cells": [
  {
   "cell_type": "markdown",
   "id": "7b0db095",
   "metadata": {},
   "source": [
    "\n",
    "## Table of contents\n",
    "\n",
    "[Import data](#abs_1)<br>\n",
    "\n",
    "[Preprocessing](#abs_2)<br>\n",
    "\n",
    "\n"
   ]
  },
  {
   "cell_type": "code",
   "execution_count": 2,
   "id": "d4b3b31d",
   "metadata": {},
   "outputs": [],
   "source": [
    "import pandas as pd\n",
    "import numpy as np\n",
    "import re #look for matches in strings\n",
    "from datetime import datetime\n",
    "\n",
    "from functions.custom_functions import *\n"
   ]
  },
  {
   "cell_type": "code",
   "execution_count": 3,
   "id": "3759feac",
   "metadata": {},
   "outputs": [],
   "source": [
    "#Stop words\n",
    "sw = ['?', '??', '???', 'check', 'found', 'amazon', 'damaged', 'damages', 'amazon', \n",
    "     'crushed', 'sold as set on dotcom', 'water damage', 'Found', 'missing','???lost',\n",
    "     'AMAZON', 'Damaged', 'counted', 'wet pallet', '????missing','Water damaged', 'adjustment', \n",
    "     'dotcom', 'mouldy, thrown away.', 'Show Samples', 'lost', 'incorrectly made-thrown away.', 're-adjustment',\n",
    "     'damages/dotcom?', 'sold as set/6 by dotcom', 'cracked', 'crushed ctn','taig adjust no stock',\n",
    "     'POSSIBLE DAMAGES OR LOST?', \"Dotcom sold in 6's\", \"sold in set?\", 'reverse 21/5/10 adjustment',\n",
    "     \"can't find\", \"?missing\", '?? missing', 'amazon adjust', 'Dotcom set', 'wrongly sold as sets', \n",
    "      '?sold as sets?', 'mouldy, unsaleable.', 'Amazon', 'faulty', 'rcvd be air temp fix for dotcom sit',\n",
    "     're dotcom quick fix.', 'Dotcom sales', 'missing?','reverse 21/5/10 adjustment', \n",
    "      'incorrectly put back into stock', 'damages?','had been put aside', 'wet boxes', 'wet rusty',\n",
    "     'sold as set on dotcom', '????damages????', 'historic computer difference?....se', \n",
    "     'smashed', 'had been put aside', 'dotcomstock','mixed up', 'michel oops', 'test', 'lost in space',\n",
    "     'amazon sales','FOUND', 'thrown away', 'wet pallet', '???missing', 'Water damaged', 'FBA',\n",
    "     'dotcom sales', 'Dotcom', 'Dotcom sales', 'Damages/samples', 'on cargo order', 'adjustment', 'dotcom',\n",
    "     'damages?', 'mystery! Only ever imported 1800', 'MIA', 'wet', 'samples', 'sold as set on dotcom and amazon', \n",
    "     'sold as 1', 'MERCHANT CHANDLER CREDIT ERROR, STO', 'OOPS ! adjustment','Missing', '?lost', \n",
    "      'found some more on shelf', 'reverse previous adjustment','Amazon sold sets', 'dotcom sold sets',\n",
    "     'mix up with c', 'wrongly sold sets',  '? sold as sets?', 'damages/display', 'Not rcvd in 10/11/2010 delivery',\n",
    "      'Amazon Adjustment', 'CHECK', 'damaged stock', 'showroom', 'found box', 'stock check', 'barcode problem',\n",
    "     'Found in w/hse', 'damages/credits from ASOS.', 'damages?', 'damages/showroom etc', 'had been put aside',\n",
    "      'DAMAGED', 'sold as 1', '?missing', 'taig adjust', 'Wet pallet-thrown away', 'Had been put aside.',\n",
    "      'did  a credit  and did not tick ret', 'damages wax', 'thrown away', 'damages?', 'Adjustment', '?display?',\n",
    "      'WET/MOULDY', 'adjust', 'damages wax', 'returned', 'mixed up', 'crushed', 'label mix up', 'lost??',\n",
    "      'Sold as 1 on dotcom', 'sold as set by dotcom', 'smashed', 'Dagamed', 'water damaged', 'wrong barcode',\n",
    "      'check?', 'wet/rusty', 'Thrown away.', 'ebay', 'thrown away', 'crushed boxes', 'stock creditted wrongly', \n",
    "      'stock check', 'wet damaged', 'test', 'samples/damages', 'to push order througha s stock was',\n",
    "      'Unsaleable, destroyed.', 'wet damaged', 'Given away', 'wet?', 'Printing smudges/thrown away',\n",
    "      'printing smudges/thrown away', 'thrown away',  'had been put aside', 'rusty throw away', 'Crushed',\n",
    "      'mailout','temp adjustment', 'allocate stock for dotcom orders ta', 'add stock to allocate online orders', \n",
    "      'for online retail orders', 'website fixed', 'Breakages', 'smashed', 'wet damaged', 'incorrect stock entry.',\n",
    "      'Lighthouse Trading zero invc incorr', 'Incorrect stock entry.','mouldy',\n",
    "      'alan hodge cant mamage this section', 'incorrectly credited C550456 see 47' \n",
    "     ]"
   ]
  },
  {
   "cell_type": "markdown",
   "id": "348ad854",
   "metadata": {},
   "source": [
    "<a id=\"abs_1\"></a>\n",
    "<hr>\n",
    "\n",
    "# Import data"
   ]
  },
  {
   "cell_type": "code",
   "execution_count": 4,
   "id": "e4240bb3",
   "metadata": {},
   "outputs": [],
   "source": [
    "data = pd.read_csv('/Users/Mariia/Documents/GitHub/Python_Project/Online_Retail.csv')"
   ]
  },
  {
   "cell_type": "markdown",
   "id": "290061ee",
   "metadata": {},
   "source": [
    "<a id=\"abs_2\"></a>\n",
    "<hr>\n",
    "\n",
    "# Preprocessing"
   ]
  },
  {
   "cell_type": "code",
   "execution_count": 5,
   "id": "428c0d0c",
   "metadata": {},
   "outputs": [
    {
     "data": {
      "text/html": [
       "<div>\n",
       "<style scoped>\n",
       "    .dataframe tbody tr th:only-of-type {\n",
       "        vertical-align: middle;\n",
       "    }\n",
       "\n",
       "    .dataframe tbody tr th {\n",
       "        vertical-align: top;\n",
       "    }\n",
       "\n",
       "    .dataframe thead th {\n",
       "        text-align: right;\n",
       "    }\n",
       "</style>\n",
       "<table border=\"1\" class=\"dataframe\">\n",
       "  <thead>\n",
       "    <tr style=\"text-align: right;\">\n",
       "      <th></th>\n",
       "      <th>index</th>\n",
       "      <th>InvoiceNo</th>\n",
       "      <th>StockCode</th>\n",
       "      <th>Description</th>\n",
       "      <th>Quantity</th>\n",
       "      <th>InvoiceDate</th>\n",
       "      <th>UnitPrice</th>\n",
       "      <th>CustomerID</th>\n",
       "      <th>Country</th>\n",
       "    </tr>\n",
       "  </thead>\n",
       "  <tbody>\n",
       "    <tr>\n",
       "      <th>0</th>\n",
       "      <td>0</td>\n",
       "      <td>536365</td>\n",
       "      <td>85123A</td>\n",
       "      <td>WHITE HANGING HEART T-LIGHT HOLDER</td>\n",
       "      <td>6</td>\n",
       "      <td>12/1/2010 8:26</td>\n",
       "      <td>2.55</td>\n",
       "      <td>17850.0</td>\n",
       "      <td>United Kingdom</td>\n",
       "    </tr>\n",
       "    <tr>\n",
       "      <th>1</th>\n",
       "      <td>1</td>\n",
       "      <td>536365</td>\n",
       "      <td>71053</td>\n",
       "      <td>WHITE METAL LANTERN</td>\n",
       "      <td>6</td>\n",
       "      <td>12/1/2010 8:26</td>\n",
       "      <td>3.39</td>\n",
       "      <td>17850.0</td>\n",
       "      <td>United Kingdom</td>\n",
       "    </tr>\n",
       "    <tr>\n",
       "      <th>2</th>\n",
       "      <td>2</td>\n",
       "      <td>536365</td>\n",
       "      <td>84406B</td>\n",
       "      <td>CREAM CUPID HEARTS COAT HANGER</td>\n",
       "      <td>8</td>\n",
       "      <td>12/1/2010 8:26</td>\n",
       "      <td>2.75</td>\n",
       "      <td>17850.0</td>\n",
       "      <td>United Kingdom</td>\n",
       "    </tr>\n",
       "    <tr>\n",
       "      <th>3</th>\n",
       "      <td>3</td>\n",
       "      <td>536365</td>\n",
       "      <td>84029G</td>\n",
       "      <td>KNITTED UNION FLAG HOT WATER BOTTLE</td>\n",
       "      <td>6</td>\n",
       "      <td>12/1/2010 8:26</td>\n",
       "      <td>3.39</td>\n",
       "      <td>17850.0</td>\n",
       "      <td>United Kingdom</td>\n",
       "    </tr>\n",
       "    <tr>\n",
       "      <th>4</th>\n",
       "      <td>4</td>\n",
       "      <td>536365</td>\n",
       "      <td>84029E</td>\n",
       "      <td>RED WOOLLY HOTTIE WHITE HEART.</td>\n",
       "      <td>6</td>\n",
       "      <td>12/1/2010 8:26</td>\n",
       "      <td>3.39</td>\n",
       "      <td>17850.0</td>\n",
       "      <td>United Kingdom</td>\n",
       "    </tr>\n",
       "  </tbody>\n",
       "</table>\n",
       "</div>"
      ],
      "text/plain": [
       "   index InvoiceNo StockCode                          Description  Quantity  \\\n",
       "0      0    536365    85123A   WHITE HANGING HEART T-LIGHT HOLDER         6   \n",
       "1      1    536365     71053                  WHITE METAL LANTERN         6   \n",
       "2      2    536365    84406B       CREAM CUPID HEARTS COAT HANGER         8   \n",
       "3      3    536365    84029G  KNITTED UNION FLAG HOT WATER BOTTLE         6   \n",
       "4      4    536365    84029E       RED WOOLLY HOTTIE WHITE HEART.         6   \n",
       "\n",
       "      InvoiceDate  UnitPrice  CustomerID         Country  \n",
       "0  12/1/2010 8:26       2.55     17850.0  United Kingdom  \n",
       "1  12/1/2010 8:26       3.39     17850.0  United Kingdom  \n",
       "2  12/1/2010 8:26       2.75     17850.0  United Kingdom  \n",
       "3  12/1/2010 8:26       3.39     17850.0  United Kingdom  \n",
       "4  12/1/2010 8:26       3.39     17850.0  United Kingdom  "
      ]
     },
     "execution_count": 5,
     "metadata": {},
     "output_type": "execute_result"
    }
   ],
   "source": [
    "data.head(5)"
   ]
  },
  {
   "cell_type": "code",
   "execution_count": 6,
   "id": "227c7b1c",
   "metadata": {},
   "outputs": [
    {
     "data": {
      "text/plain": [
       "541909"
      ]
     },
     "execution_count": 6,
     "metadata": {},
     "output_type": "execute_result"
    }
   ],
   "source": [
    "len(data)"
   ]
  },
  {
   "cell_type": "code",
   "execution_count": 7,
   "id": "d9509a9c",
   "metadata": {},
   "outputs": [
    {
     "name": "stdout",
     "output_type": "stream",
     "text": [
      "Missing Values:\n",
      "index: No missing values\n",
      "InvoiceNo: No missing values\n",
      "StockCode: No missing values\n",
      "Description: 1454 missing values, 0.27%\n",
      "Quantity: No missing values\n",
      "InvoiceDate: No missing values\n",
      "UnitPrice: No missing values\n",
      "CustomerID: 135080 missing values, 24.93%\n",
      "Country: No missing values\n"
     ]
    }
   ],
   "source": [
    "print_missing_values(data)"
   ]
  },
  {
   "cell_type": "markdown",
   "id": "c258bb2e",
   "metadata": {},
   "source": [
    "### Number of unique invoices (21 items on average per customers)"
   ]
  },
  {
   "cell_type": "code",
   "execution_count": 8,
   "id": "bd06d0d3",
   "metadata": {},
   "outputs": [],
   "source": [
    "#number of unique outcomes with .unique() for pandas"
   ]
  },
  {
   "cell_type": "code",
   "execution_count": 9,
   "id": "91b4a417",
   "metadata": {},
   "outputs": [
    {
     "data": {
      "text/plain": [
       "25900"
      ]
     },
     "execution_count": 9,
     "metadata": {},
     "output_type": "execute_result"
    }
   ],
   "source": [
    "len(data['InvoiceNo'].unique())"
   ]
  },
  {
   "cell_type": "markdown",
   "id": "3a689477",
   "metadata": {},
   "source": [
    "### Number of available products: StockCode and Description"
   ]
  },
  {
   "cell_type": "code",
   "execution_count": 10,
   "id": "522d150c",
   "metadata": {},
   "outputs": [
    {
     "data": {
      "text/plain": [
       "4070"
      ]
     },
     "execution_count": 10,
     "metadata": {},
     "output_type": "execute_result"
    }
   ],
   "source": [
    "len(data['StockCode'].unique())"
   ]
  },
  {
   "cell_type": "code",
   "execution_count": 11,
   "id": "7a654828",
   "metadata": {},
   "outputs": [
    {
     "data": {
      "text/plain": [
       "4224"
      ]
     },
     "execution_count": 11,
     "metadata": {},
     "output_type": "execute_result"
    }
   ],
   "source": [
    "len(data['Description'].unique())"
   ]
  },
  {
   "cell_type": "code",
   "execution_count": 12,
   "id": "0d15af38",
   "metadata": {},
   "outputs": [
    {
     "data": {
      "text/plain": [
       "1454"
      ]
     },
     "execution_count": 12,
     "metadata": {},
     "output_type": "execute_result"
    }
   ],
   "source": [
    "sum(data['Description'].isna()) #we have missing and inconsistent values in description"
   ]
  },
  {
   "cell_type": "markdown",
   "id": "fe703531",
   "metadata": {},
   "source": [
    "### remove spaces from the beginning and from the end of the description , and also double spaces"
   ]
  },
  {
   "cell_type": "code",
   "execution_count": 13,
   "id": "2d5bfb28",
   "metadata": {},
   "outputs": [],
   "source": [
    "data['Description'] = remove_spaces(data['Description'])"
   ]
  },
  {
   "cell_type": "markdown",
   "id": "dc25569c",
   "metadata": {},
   "source": [
    "There are more descriptions then Stock codes.\n",
    "Investigate which stock codes have multiple descriptions"
   ]
  },
  {
   "cell_type": "markdown",
   "id": "740969e2",
   "metadata": {},
   "source": [
    "### remove rows where in description we have wrong code or like that "
   ]
  },
  {
   "cell_type": "code",
   "execution_count": 14,
   "id": "1a8b764b",
   "metadata": {},
   "outputs": [
    {
     "data": {
      "text/plain": [
       "24"
      ]
     },
     "execution_count": 14,
     "metadata": {},
     "output_type": "execute_result"
    }
   ],
   "source": [
    "#found descriptions with something wrong \n",
    "string_array = data['Description'].astype(str).tolist()\n",
    "\n",
    "# Your pattern\n",
    "pattern1 = re.compile(r'\\bwrong', re.IGNORECASE) \n",
    "pattern2 = re.compile(r'code') \n",
    "pattern4 = re.compile(r'Marked') \n",
    "pattern5 = re.compile(r'207') \n",
    "\n",
    "# Find elemennts that match the pattern\n",
    "matches = [s for s in string_array if (re.search(pattern1, s) or re.search(pattern2, s) or \n",
    "                                       re.search(pattern4, s) or\n",
    "                                      re.search(pattern5, s))]\n",
    "len(matches)"
   ]
  },
  {
   "cell_type": "code",
   "execution_count": 15,
   "id": "d3e3da58",
   "metadata": {},
   "outputs": [],
   "source": [
    "#removed wrong codes\n",
    "data = data.loc[~data[\"Description\"].isin(matches)]"
   ]
  },
  {
   "cell_type": "markdown",
   "id": "585e4ff9",
   "metadata": {},
   "source": [
    "### look for all bad stock codes"
   ]
  },
  {
   "cell_type": "code",
   "execution_count": 16,
   "id": "270aaa7c",
   "metadata": {},
   "outputs": [],
   "source": [
    "#new column DOne\n",
    "data['addition'] = [ x if x in sw else np.nan for x in pd.Series(data['Description']) ]"
   ]
  },
  {
   "cell_type": "code",
   "execution_count": 17,
   "id": "81e425b7",
   "metadata": {},
   "outputs": [],
   "source": [
    "#done\n",
    "desc_arr = pd.Series(data['Description'])\n",
    "data['Description'] = [ x if not (x in sw) else np.nan for x in desc_arr ]"
   ]
  },
  {
   "cell_type": "code",
   "execution_count": 18,
   "id": "6e5d6823",
   "metadata": {},
   "outputs": [],
   "source": [
    "data = remove_double_names(data)"
   ]
  },
  {
   "cell_type": "code",
   "execution_count": 19,
   "id": "90f413b3",
   "metadata": {},
   "outputs": [
    {
     "data": {
      "text/plain": [
       "0"
      ]
     },
     "execution_count": 19,
     "metadata": {},
     "output_type": "execute_result"
    }
   ],
   "source": [
    "#check whether there are still are stock codes with the multiple descriptions\n",
    "stock = data['StockCode'].unique()\n",
    "ind = []\n",
    "for i in range(len(stock)):\n",
    "    if len(data.loc[data['StockCode'] == stock[i]]['Description'].unique()) != 1:\n",
    "        ind.append(i)#['CustomerID']\n",
    "len(ind)"
   ]
  },
  {
   "cell_type": "code",
   "execution_count": 20,
   "id": "d7bd5390",
   "metadata": {},
   "outputs": [],
   "source": [
    "data.dropna(subset=['Description'], inplace=True)"
   ]
  },
  {
   "cell_type": "code",
   "execution_count": 21,
   "id": "560caf59",
   "metadata": {},
   "outputs": [
    {
     "name": "stdout",
     "output_type": "stream",
     "text": [
      "Missing Values:\n",
      "index: No missing values\n",
      "InvoiceNo: No missing values\n",
      "StockCode: No missing values\n",
      "Description: No missing values\n",
      "Quantity: No missing values\n",
      "InvoiceDate: No missing values\n",
      "UnitPrice: No missing values\n",
      "CustomerID: 134928 missing values, 24.91%\n",
      "Country: No missing values\n",
      "addition: 541171 missing values, 99.89%\n"
     ]
    }
   ],
   "source": [
    "print_missing_values(data)"
   ]
  },
  {
   "cell_type": "markdown",
   "id": "7fefc4a5",
   "metadata": {},
   "source": [
    "# Inspect further columns "
   ]
  },
  {
   "cell_type": "markdown",
   "id": "7b66aed4",
   "metadata": {},
   "source": [
    "Quantity"
   ]
  },
  {
   "cell_type": "code",
   "execution_count": 22,
   "id": "8a39c6c8",
   "metadata": {},
   "outputs": [
    {
     "data": {
      "text/plain": [
       "-80995"
      ]
     },
     "execution_count": 22,
     "metadata": {},
     "output_type": "execute_result"
    }
   ],
   "source": [
    "min(data['Quantity'])"
   ]
  },
  {
   "cell_type": "code",
   "execution_count": 23,
   "id": "fc685518",
   "metadata": {},
   "outputs": [
    {
     "data": {
      "text/plain": [
       "80995"
      ]
     },
     "execution_count": 23,
     "metadata": {},
     "output_type": "execute_result"
    }
   ],
   "source": [
    "max(data['Quantity'])"
   ]
  },
  {
   "cell_type": "code",
   "execution_count": 24,
   "id": "afa27bbd",
   "metadata": {},
   "outputs": [
    {
     "data": {
      "text/html": [
       "<div>\n",
       "<style scoped>\n",
       "    .dataframe tbody tr th:only-of-type {\n",
       "        vertical-align: middle;\n",
       "    }\n",
       "\n",
       "    .dataframe tbody tr th {\n",
       "        vertical-align: top;\n",
       "    }\n",
       "\n",
       "    .dataframe thead th {\n",
       "        text-align: right;\n",
       "    }\n",
       "</style>\n",
       "<table border=\"1\" class=\"dataframe\">\n",
       "  <thead>\n",
       "    <tr style=\"text-align: right;\">\n",
       "      <th></th>\n",
       "      <th>index</th>\n",
       "      <th>InvoiceNo</th>\n",
       "      <th>StockCode</th>\n",
       "      <th>Description</th>\n",
       "      <th>Quantity</th>\n",
       "      <th>InvoiceDate</th>\n",
       "      <th>UnitPrice</th>\n",
       "      <th>CustomerID</th>\n",
       "      <th>Country</th>\n",
       "      <th>addition</th>\n",
       "    </tr>\n",
       "  </thead>\n",
       "  <tbody>\n",
       "    <tr>\n",
       "      <th>141</th>\n",
       "      <td>141</td>\n",
       "      <td>C536379</td>\n",
       "      <td>D</td>\n",
       "      <td>Discount</td>\n",
       "      <td>-1</td>\n",
       "      <td>12/1/2010 9:41</td>\n",
       "      <td>27.50</td>\n",
       "      <td>14527.0</td>\n",
       "      <td>United Kingdom</td>\n",
       "      <td>NaN</td>\n",
       "    </tr>\n",
       "    <tr>\n",
       "      <th>154</th>\n",
       "      <td>154</td>\n",
       "      <td>C536383</td>\n",
       "      <td>35004C</td>\n",
       "      <td>SET OF 3 COLOURED FLYING DUCKS</td>\n",
       "      <td>-1</td>\n",
       "      <td>12/1/2010 9:49</td>\n",
       "      <td>4.65</td>\n",
       "      <td>15311.0</td>\n",
       "      <td>United Kingdom</td>\n",
       "      <td>NaN</td>\n",
       "    </tr>\n",
       "    <tr>\n",
       "      <th>235</th>\n",
       "      <td>235</td>\n",
       "      <td>C536391</td>\n",
       "      <td>22556</td>\n",
       "      <td>PLASTERS IN TIN CIRCUS PARADE</td>\n",
       "      <td>-12</td>\n",
       "      <td>12/1/2010 10:24</td>\n",
       "      <td>1.65</td>\n",
       "      <td>17548.0</td>\n",
       "      <td>United Kingdom</td>\n",
       "      <td>NaN</td>\n",
       "    </tr>\n",
       "    <tr>\n",
       "      <th>236</th>\n",
       "      <td>236</td>\n",
       "      <td>C536391</td>\n",
       "      <td>21984</td>\n",
       "      <td>PACK OF 12 PINK PAISLEY TISSUES</td>\n",
       "      <td>-24</td>\n",
       "      <td>12/1/2010 10:24</td>\n",
       "      <td>0.29</td>\n",
       "      <td>17548.0</td>\n",
       "      <td>United Kingdom</td>\n",
       "      <td>NaN</td>\n",
       "    </tr>\n",
       "    <tr>\n",
       "      <th>237</th>\n",
       "      <td>237</td>\n",
       "      <td>C536391</td>\n",
       "      <td>21983</td>\n",
       "      <td>PACK OF 12 BLUE PAISLEY TISSUES</td>\n",
       "      <td>-24</td>\n",
       "      <td>12/1/2010 10:24</td>\n",
       "      <td>0.29</td>\n",
       "      <td>17548.0</td>\n",
       "      <td>United Kingdom</td>\n",
       "      <td>NaN</td>\n",
       "    </tr>\n",
       "    <tr>\n",
       "      <th>...</th>\n",
       "      <td>...</td>\n",
       "      <td>...</td>\n",
       "      <td>...</td>\n",
       "      <td>...</td>\n",
       "      <td>...</td>\n",
       "      <td>...</td>\n",
       "      <td>...</td>\n",
       "      <td>...</td>\n",
       "      <td>...</td>\n",
       "      <td>...</td>\n",
       "    </tr>\n",
       "    <tr>\n",
       "      <th>540449</th>\n",
       "      <td>540449</td>\n",
       "      <td>C581490</td>\n",
       "      <td>23144</td>\n",
       "      <td>ZINC T-LIGHT HOLDER STARS SMALL</td>\n",
       "      <td>-11</td>\n",
       "      <td>12/9/2011 9:57</td>\n",
       "      <td>0.83</td>\n",
       "      <td>14397.0</td>\n",
       "      <td>United Kingdom</td>\n",
       "      <td>NaN</td>\n",
       "    </tr>\n",
       "    <tr>\n",
       "      <th>541541</th>\n",
       "      <td>541541</td>\n",
       "      <td>C581499</td>\n",
       "      <td>M</td>\n",
       "      <td>Manual</td>\n",
       "      <td>-1</td>\n",
       "      <td>12/9/2011 10:28</td>\n",
       "      <td>224.69</td>\n",
       "      <td>15498.0</td>\n",
       "      <td>United Kingdom</td>\n",
       "      <td>NaN</td>\n",
       "    </tr>\n",
       "    <tr>\n",
       "      <th>541715</th>\n",
       "      <td>541715</td>\n",
       "      <td>C581568</td>\n",
       "      <td>21258</td>\n",
       "      <td>VICTORIAN SEWING BOX LARGE</td>\n",
       "      <td>-5</td>\n",
       "      <td>12/9/2011 11:57</td>\n",
       "      <td>10.95</td>\n",
       "      <td>15311.0</td>\n",
       "      <td>United Kingdom</td>\n",
       "      <td>NaN</td>\n",
       "    </tr>\n",
       "    <tr>\n",
       "      <th>541716</th>\n",
       "      <td>541716</td>\n",
       "      <td>C581569</td>\n",
       "      <td>84978</td>\n",
       "      <td>HANGING HEART JAR T-LIGHT HOLDER</td>\n",
       "      <td>-1</td>\n",
       "      <td>12/9/2011 11:58</td>\n",
       "      <td>1.25</td>\n",
       "      <td>17315.0</td>\n",
       "      <td>United Kingdom</td>\n",
       "      <td>NaN</td>\n",
       "    </tr>\n",
       "    <tr>\n",
       "      <th>541717</th>\n",
       "      <td>541717</td>\n",
       "      <td>C581569</td>\n",
       "      <td>20979</td>\n",
       "      <td>36 PENCILS TUBE RED RETROSPOT</td>\n",
       "      <td>-5</td>\n",
       "      <td>12/9/2011 11:58</td>\n",
       "      <td>1.25</td>\n",
       "      <td>17315.0</td>\n",
       "      <td>United Kingdom</td>\n",
       "      <td>NaN</td>\n",
       "    </tr>\n",
       "  </tbody>\n",
       "</table>\n",
       "<p>10496 rows × 10 columns</p>\n",
       "</div>"
      ],
      "text/plain": [
       "         index InvoiceNo StockCode                       Description  \\\n",
       "141        141   C536379         D                          Discount   \n",
       "154        154   C536383    35004C    SET OF 3 COLOURED FLYING DUCKS   \n",
       "235        235   C536391     22556     PLASTERS IN TIN CIRCUS PARADE   \n",
       "236        236   C536391     21984   PACK OF 12 PINK PAISLEY TISSUES   \n",
       "237        237   C536391     21983   PACK OF 12 BLUE PAISLEY TISSUES   \n",
       "...        ...       ...       ...                               ...   \n",
       "540449  540449   C581490     23144   ZINC T-LIGHT HOLDER STARS SMALL   \n",
       "541541  541541   C581499         M                            Manual   \n",
       "541715  541715   C581568     21258        VICTORIAN SEWING BOX LARGE   \n",
       "541716  541716   C581569     84978  HANGING HEART JAR T-LIGHT HOLDER   \n",
       "541717  541717   C581569     20979     36 PENCILS TUBE RED RETROSPOT   \n",
       "\n",
       "        Quantity      InvoiceDate  UnitPrice  CustomerID         Country  \\\n",
       "141           -1   12/1/2010 9:41      27.50     14527.0  United Kingdom   \n",
       "154           -1   12/1/2010 9:49       4.65     15311.0  United Kingdom   \n",
       "235          -12  12/1/2010 10:24       1.65     17548.0  United Kingdom   \n",
       "236          -24  12/1/2010 10:24       0.29     17548.0  United Kingdom   \n",
       "237          -24  12/1/2010 10:24       0.29     17548.0  United Kingdom   \n",
       "...          ...              ...        ...         ...             ...   \n",
       "540449       -11   12/9/2011 9:57       0.83     14397.0  United Kingdom   \n",
       "541541        -1  12/9/2011 10:28     224.69     15498.0  United Kingdom   \n",
       "541715        -5  12/9/2011 11:57      10.95     15311.0  United Kingdom   \n",
       "541716        -1  12/9/2011 11:58       1.25     17315.0  United Kingdom   \n",
       "541717        -5  12/9/2011 11:58       1.25     17315.0  United Kingdom   \n",
       "\n",
       "       addition  \n",
       "141         NaN  \n",
       "154         NaN  \n",
       "235         NaN  \n",
       "236         NaN  \n",
       "237         NaN  \n",
       "...         ...  \n",
       "540449      NaN  \n",
       "541541      NaN  \n",
       "541715      NaN  \n",
       "541716      NaN  \n",
       "541717      NaN  \n",
       "\n",
       "[10496 rows x 10 columns]"
      ]
     },
     "execution_count": 24,
     "metadata": {},
     "output_type": "execute_result"
    }
   ],
   "source": [
    "data.loc[data['Quantity'] < 0]  #10607 rows"
   ]
  },
  {
   "cell_type": "markdown",
   "id": "e781bab3",
   "metadata": {},
   "source": [
    "entities with Quantity <0,  inspect them further, there are descriptions like Discount, Manual... have a look on them  "
   ]
  },
  {
   "cell_type": "code",
   "execution_count": 25,
   "id": "9732fb0a",
   "metadata": {},
   "outputs": [],
   "source": [
    "data = data.loc[~data['Quantity'] < 0]  #can remove them "
   ]
  },
  {
   "cell_type": "code",
   "execution_count": 26,
   "id": "90b066e2",
   "metadata": {},
   "outputs": [
    {
     "data": {
      "text/html": [
       "<div>\n",
       "<style scoped>\n",
       "    .dataframe tbody tr th:only-of-type {\n",
       "        vertical-align: middle;\n",
       "    }\n",
       "\n",
       "    .dataframe tbody tr th {\n",
       "        vertical-align: top;\n",
       "    }\n",
       "\n",
       "    .dataframe thead th {\n",
       "        text-align: right;\n",
       "    }\n",
       "</style>\n",
       "<table border=\"1\" class=\"dataframe\">\n",
       "  <thead>\n",
       "    <tr style=\"text-align: right;\">\n",
       "      <th></th>\n",
       "      <th>index</th>\n",
       "      <th>InvoiceNo</th>\n",
       "      <th>StockCode</th>\n",
       "      <th>Description</th>\n",
       "      <th>Quantity</th>\n",
       "      <th>InvoiceDate</th>\n",
       "      <th>UnitPrice</th>\n",
       "      <th>CustomerID</th>\n",
       "      <th>Country</th>\n",
       "      <th>addition</th>\n",
       "    </tr>\n",
       "  </thead>\n",
       "  <tbody>\n",
       "    <tr>\n",
       "      <th>0</th>\n",
       "      <td>0</td>\n",
       "      <td>536365</td>\n",
       "      <td>85123A</td>\n",
       "      <td>WHITE HANGING HEART T-LIGHT HOLDER</td>\n",
       "      <td>6</td>\n",
       "      <td>12/1/2010 8:26</td>\n",
       "      <td>2.55</td>\n",
       "      <td>17850.0</td>\n",
       "      <td>United Kingdom</td>\n",
       "      <td>NaN</td>\n",
       "    </tr>\n",
       "    <tr>\n",
       "      <th>1</th>\n",
       "      <td>1</td>\n",
       "      <td>536365</td>\n",
       "      <td>71053</td>\n",
       "      <td>WHITE METAL LANTERN</td>\n",
       "      <td>6</td>\n",
       "      <td>12/1/2010 8:26</td>\n",
       "      <td>3.39</td>\n",
       "      <td>17850.0</td>\n",
       "      <td>United Kingdom</td>\n",
       "      <td>NaN</td>\n",
       "    </tr>\n",
       "    <tr>\n",
       "      <th>2</th>\n",
       "      <td>2</td>\n",
       "      <td>536365</td>\n",
       "      <td>84406B</td>\n",
       "      <td>CREAM CUPID HEARTS COAT HANGER</td>\n",
       "      <td>8</td>\n",
       "      <td>12/1/2010 8:26</td>\n",
       "      <td>2.75</td>\n",
       "      <td>17850.0</td>\n",
       "      <td>United Kingdom</td>\n",
       "      <td>NaN</td>\n",
       "    </tr>\n",
       "    <tr>\n",
       "      <th>3</th>\n",
       "      <td>3</td>\n",
       "      <td>536365</td>\n",
       "      <td>84029G</td>\n",
       "      <td>KNITTED UNION FLAG HOT WATER BOTTLE</td>\n",
       "      <td>6</td>\n",
       "      <td>12/1/2010 8:26</td>\n",
       "      <td>3.39</td>\n",
       "      <td>17850.0</td>\n",
       "      <td>United Kingdom</td>\n",
       "      <td>NaN</td>\n",
       "    </tr>\n",
       "    <tr>\n",
       "      <th>4</th>\n",
       "      <td>4</td>\n",
       "      <td>536365</td>\n",
       "      <td>84029E</td>\n",
       "      <td>RED WOOLLY HOTTIE WHITE HEART.</td>\n",
       "      <td>6</td>\n",
       "      <td>12/1/2010 8:26</td>\n",
       "      <td>3.39</td>\n",
       "      <td>17850.0</td>\n",
       "      <td>United Kingdom</td>\n",
       "      <td>NaN</td>\n",
       "    </tr>\n",
       "  </tbody>\n",
       "</table>\n",
       "</div>"
      ],
      "text/plain": [
       "   index InvoiceNo StockCode                          Description  Quantity  \\\n",
       "0      0    536365    85123A   WHITE HANGING HEART T-LIGHT HOLDER         6   \n",
       "1      1    536365     71053                  WHITE METAL LANTERN         6   \n",
       "2      2    536365    84406B       CREAM CUPID HEARTS COAT HANGER         8   \n",
       "3      3    536365    84029G  KNITTED UNION FLAG HOT WATER BOTTLE         6   \n",
       "4      4    536365    84029E       RED WOOLLY HOTTIE WHITE HEART.         6   \n",
       "\n",
       "      InvoiceDate  UnitPrice  CustomerID         Country addition  \n",
       "0  12/1/2010 8:26       2.55     17850.0  United Kingdom      NaN  \n",
       "1  12/1/2010 8:26       3.39     17850.0  United Kingdom      NaN  \n",
       "2  12/1/2010 8:26       2.75     17850.0  United Kingdom      NaN  \n",
       "3  12/1/2010 8:26       3.39     17850.0  United Kingdom      NaN  \n",
       "4  12/1/2010 8:26       3.39     17850.0  United Kingdom      NaN  "
      ]
     },
     "execution_count": 26,
     "metadata": {},
     "output_type": "execute_result"
    }
   ],
   "source": [
    "data.head(5)\n"
   ]
  },
  {
   "cell_type": "code",
   "execution_count": 27,
   "id": "76e7e0cf",
   "metadata": {},
   "outputs": [],
   "source": [
    "data = data.loc[data['UnitPrice'] > 0] "
   ]
  },
  {
   "cell_type": "code",
   "execution_count": 28,
   "id": "7c594fca",
   "metadata": {},
   "outputs": [],
   "source": [
    "#Transform InvoiceDate into date format\n",
    "\n",
    "#[datetime.strptime(x, '%m/%d/%Y %H:%M') for x in data['InvoiceDate']]"
   ]
  },
  {
   "cell_type": "markdown",
   "id": "5c22e3eb",
   "metadata": {},
   "source": [
    "CustomerID"
   ]
  },
  {
   "cell_type": "code",
   "execution_count": 29,
   "id": "39b1ca63",
   "metadata": {},
   "outputs": [
    {
     "data": {
      "text/plain": [
       "132220"
      ]
     },
     "execution_count": 29,
     "metadata": {},
     "output_type": "execute_result"
    }
   ],
   "source": [
    "sum(pd.Series(data['CustomerID']).isna()) #135056 missing values, can process without them"
   ]
  },
  {
   "cell_type": "markdown",
   "id": "7d7a7b31",
   "metadata": {},
   "source": [
    "Country"
   ]
  },
  {
   "cell_type": "code",
   "execution_count": 30,
   "id": "0f403d3e",
   "metadata": {},
   "outputs": [
    {
     "data": {
      "text/plain": [
       "array(['United Kingdom', 'France', 'Australia', 'Netherlands', 'Germany',\n",
       "       'Norway', 'EIRE', 'Switzerland', 'Spain', 'Poland', 'Portugal',\n",
       "       'Italy', 'Belgium', 'Lithuania', 'Japan', 'Iceland',\n",
       "       'Channel Islands', 'Denmark', 'Cyprus', 'Sweden', 'Finland',\n",
       "       'Austria', 'Bahrain', 'Israel', 'Greece', 'Hong Kong', 'Singapore',\n",
       "       'Lebanon', 'United Arab Emirates', 'Saudi Arabia',\n",
       "       'Czech Republic', 'Canada', 'Unspecified', 'Brazil', 'USA',\n",
       "       'European Community', 'Malta', 'RSA'], dtype=object)"
      ]
     },
     "execution_count": 30,
     "metadata": {},
     "output_type": "execute_result"
    }
   ],
   "source": [
    "data['Country'].unique()"
   ]
  },
  {
   "cell_type": "code",
   "execution_count": 39,
   "id": "ec963d91",
   "metadata": {},
   "outputs": [
    {
     "data": {
      "text/html": [
       "<div>\n",
       "<style scoped>\n",
       "    .dataframe tbody tr th:only-of-type {\n",
       "        vertical-align: middle;\n",
       "    }\n",
       "\n",
       "    .dataframe tbody tr th {\n",
       "        vertical-align: top;\n",
       "    }\n",
       "\n",
       "    .dataframe thead th {\n",
       "        text-align: right;\n",
       "    }\n",
       "</style>\n",
       "<table border=\"1\" class=\"dataframe\">\n",
       "  <thead>\n",
       "    <tr style=\"text-align: right;\">\n",
       "      <th></th>\n",
       "      <th>index</th>\n",
       "      <th>InvoiceNo</th>\n",
       "      <th>StockCode</th>\n",
       "      <th>Description</th>\n",
       "      <th>Quantity</th>\n",
       "      <th>InvoiceDate</th>\n",
       "      <th>UnitPrice</th>\n",
       "      <th>CustomerID</th>\n",
       "      <th>Country</th>\n",
       "      <th>addition</th>\n",
       "    </tr>\n",
       "  </thead>\n",
       "  <tbody>\n",
       "    <tr>\n",
       "      <th>0</th>\n",
       "      <td>0</td>\n",
       "      <td>536365</td>\n",
       "      <td>85123A</td>\n",
       "      <td>WHITE HANGING HEART T-LIGHT HOLDER</td>\n",
       "      <td>6</td>\n",
       "      <td>12/1/2010 8:26</td>\n",
       "      <td>2.55</td>\n",
       "      <td>17850.0</td>\n",
       "      <td>United Kingdom</td>\n",
       "      <td>NaN</td>\n",
       "    </tr>\n",
       "    <tr>\n",
       "      <th>1</th>\n",
       "      <td>1</td>\n",
       "      <td>536365</td>\n",
       "      <td>71053</td>\n",
       "      <td>WHITE METAL LANTERN</td>\n",
       "      <td>6</td>\n",
       "      <td>12/1/2010 8:26</td>\n",
       "      <td>3.39</td>\n",
       "      <td>17850.0</td>\n",
       "      <td>United Kingdom</td>\n",
       "      <td>NaN</td>\n",
       "    </tr>\n",
       "  </tbody>\n",
       "</table>\n",
       "</div>"
      ],
      "text/plain": [
       "   index InvoiceNo StockCode                         Description  Quantity  \\\n",
       "0      0    536365    85123A  WHITE HANGING HEART T-LIGHT HOLDER         6   \n",
       "1      1    536365     71053                 WHITE METAL LANTERN         6   \n",
       "\n",
       "      InvoiceDate  UnitPrice  CustomerID         Country addition  \n",
       "0  12/1/2010 8:26       2.55     17850.0  United Kingdom      NaN  \n",
       "1  12/1/2010 8:26       3.39     17850.0  United Kingdom      NaN  "
      ]
     },
     "execution_count": 39,
     "metadata": {},
     "output_type": "execute_result"
    }
   ],
   "source": [
    "data.head(2)"
   ]
  },
  {
   "cell_type": "code",
   "execution_count": 41,
   "id": "bed0ca55",
   "metadata": {},
   "outputs": [
    {
     "data": {
      "image/png": "[encoded data removed]",
      "text/plain": [
       "<Figure size 1000x700 with 1 Axes>"
      ]
     },
     "metadata": {},
     "output_type": "display_data"
    },
    {
     "data": {
      "image/png": "[encoded data removed]",
      "text/plain": [
       "<Figure size 640x480 with 1 Axes>"
      ]
     },
     "metadata": {},
     "output_type": "display_data"
    }
   ],
   "source": [
    "import matplotlib.pyplot as plt\n",
    "import seaborn as sns\n",
    " \n",
    "fig = plt.figure(figsize =(10, 7))\n",
    " \n",
    "# Creating plot\n",
    "plt.boxplot(data['Quantity'])\n",
    "plt.show()\n",
    "plt.boxplot(data['UnitPrice'])\n",
    " \n",
    "# show plot\n",
    "plt.show()"
   ]
  }
 ],
 "metadata": {
  "kernelspec": {
   "display_name": "Python 3 (ipykernel)",
   "language": "python",
   "name": "python3"
  },
  "language_info": {
   "codemirror_mode": {
    "name": "ipython",
    "version": 3
   },
   "file_extension": ".py",
   "mimetype": "text/x-python",
   "name": "python",
   "nbconvert_exporter": "python",
   "pygments_lexer": "ipython3",
   "version": "3.9.7"
  }
 },
 "nbformat": 4,
 "nbformat_minor": 5
}
