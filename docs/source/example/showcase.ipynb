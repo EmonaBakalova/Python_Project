{
 "cells": [
  {
   "cell_type": "markdown",
   "id": "7b0db095",
   "metadata": {},
   "source": [
    "\n",
    "## Table of contents\n",
    "\n",
    "[Import data](#abs_1)<br>\n",
    "\n",
    "[Preprocessing](#abs_2)<br>\n",
    "\n",
    "\n"
   ]
  },
  {
   "cell_type": "code",
   "execution_count": 1,
   "id": "d4b3b31d",
   "metadata": {},
   "outputs": [
    {
     "name": "stdout",
     "output_type": "stream",
     "text": [
      "Intel MKL WARNING: Support of Intel(R) Streaming SIMD Extensions 4.2 (Intel(R) SSE4.2) enabled only processors has been deprecated. Intel oneAPI Math Kernel Library 2025.0 will require Intel(R) Advanced Vector Extensions (Intel(R) AVX) instructions.\n",
      "Intel MKL WARNING: Support of Intel(R) Streaming SIMD Extensions 4.2 (Intel(R) SSE4.2) enabled only processors has been deprecated. Intel oneAPI Math Kernel Library 2025.0 will require Intel(R) Advanced Vector Extensions (Intel(R) AVX) instructions.\n"
     ]
    },
    {
     "ename": "",
     "evalue": "",
     "output_type": "error",
     "traceback": [
      "\u001b[1;31mThe Kernel crashed while executing code in the current cell or a previous cell. \n",
      "\u001b[1;31mPlease review the code in the cell(s) to identify a possible cause of the failure. \n",
      "\u001b[1;31mClick <a href='https://aka.ms/vscodeJupyterKernelCrash'>here</a> for more info. \n",
      "\u001b[1;31mView Jupyter <a href='command:jupyter.viewOutput'>log</a> for further details."
     ]
    }
   ],
   "source": [
    "import pandas as pd\n",
    "import numpy as np\n",
    "import polars as pl\n",
    "import re #look for matches in strings\n",
    "#from datetime import datetime\n",
    "\n",
    "from retail.class_customer import *\n",
    "from retail.class_retail import *"
   ]
  },
  {
   "cell_type": "markdown",
   "id": "348ad854",
   "metadata": {},
   "source": [
    "<a id=\"abs_1\"></a>\n",
    "<hr>\n",
    "\n",
    "# Import data"
   ]
  },
  {
   "cell_type": "code",
   "execution_count": 2,
   "id": "86dcba27",
   "metadata": {},
   "outputs": [],
   "source": [
    "data_file = \"Online_Retail.csv\"\n",
    "target_path = '/Users/Mariia/Documents/GitHub/Python_Project'\n",
    "pol_data = retail(target_path, data_file)\n",
    "\n",
    "data = pol_data.read_data(pol_data.data_file)\n",
    "#preprocess data set\n",
    "data = pol_data.data_preprocessed(data)\n"
   ]
  }
 ],
 "metadata": {
  "kernelspec": {
   "display_name": "Python 3 (ipykernel)",
   "language": "python",
   "name": "python3"
  },
  "language_info": {
   "codemirror_mode": {
    "name": "ipython",
    "version": 3
   },
   "file_extension": ".py",
   "mimetype": "text/x-python",
   "name": "python",
   "nbconvert_exporter": "python",
   "pygments_lexer": "ipython3",
   "version": "3.11.8"
  }
 },
 "nbformat": 4,
 "nbformat_minor": 5
}
