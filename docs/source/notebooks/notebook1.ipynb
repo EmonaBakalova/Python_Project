
Table of contents

Import data

Preprocessing

import pandas as pd
import numpy as np
import polars as pl
import re #look for matches in strings
from datetime import datetime

from functions.custom_functions import *

Intel MKL WARNING: Support of Intel(R) Streaming SIMD Extensions 4.2 (Intel(R) SSE4.2) enabled only processors has been deprecated. Intel oneAPI Math Kernel Library 2025.0 will require Intel(R) Advanced Vector Extensions (Intel(R) AVX) instructions.
Intel MKL WARNING: Support of Intel(R) Streaming SIMD Extensions 4.2 (Intel(R) SSE4.2) enabled only processors has been deprecated. Intel oneAPI Math Kernel Library 2025.0 will require Intel(R) Advanced Vector Extensions (Intel(R) AVX) instructions.

Import data

data_file = "Online_Retail.csv"
target_path = '/Users/Mariia/Documents/GitHub/Python_Project'
pol_data = retail(target_path, data_file)

data = pol_data.read_data(pol_data.data_file)
#preprocess data set
data = pol_data.data_preprocessed(data)


